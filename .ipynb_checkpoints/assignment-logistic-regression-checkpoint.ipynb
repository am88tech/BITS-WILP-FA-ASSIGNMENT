{
 "cells": [
  {
   "cell_type": "markdown",
   "id": "0fae0b77",
   "metadata": {},
   "source": [
    "# Credit Default Prediction with Logistic Regression and SMOTE"
   ]
  },
  {
   "cell_type": "markdown",
   "id": "b09a036e",
   "metadata": {},
   "source": [
    "This notebook demonstrates how to build a credit default prediction model using Logistic Regression and SMOTE for class imbalance. It includes all preprocessing steps: missing value treatment, handling infinite/large values, and log-transforming monetary columns."
   ]
  },
  {
   "cell_type": "markdown",
   "id": "9056d98d",
   "metadata": {},
   "source": [
    "## 1. Install and Import Required Libraries"
   ]
  },
  {
   "cell_type": "code",
   "execution_count": null,
   "id": "f2c6a89a",
   "metadata": {},
   "outputs": [],
   "source": [
    "!pip install imbalanced-learn pandas numpy matplotlib seaborn scikit-learn --quiet"
   ]
  },
  {
   "cell_type": "code",
   "execution_count": null,
   "id": "5cc0d755",
   "metadata": {},
   "outputs": [],
   "source": [
    "import pandas as pd\n",
    "import numpy as np\n",
    "import matplotlib.pyplot as plt\n",
    "import seaborn as sns\n",
    "from sklearn.model_selection import train_test_split\n",
    "from sklearn.preprocessing import StandardScaler\n",
    "from sklearn.linear_model import LogisticRegression\n",
    "from sklearn.metrics import confusion_matrix, classification_report, accuracy_score, roc_curve, auc\n",
    "from imblearn.over_sampling import SMOTE"
   ]
  },
  {
   "cell_type": "markdown",
   "id": "de050f3b",
   "metadata": {},
   "source": [
    "## 2. Load and Explore the Dataset"
   ]
  },
  {
   "cell_type": "code",
   "execution_count": null,
   "id": "a90f827a",
   "metadata": {},
   "outputs": [],
   "source": [
    "# Load the dataset (ensure the CSV is in your working directory)\n",
    "df = pd.read_csv('data/UCI_Credit_Card.csv')\n",
    "df.head()"
   ]
  },
  {
   "cell_type": "markdown",
   "id": "6061061d",
   "metadata": {},
   "source": [
    "## 3. Data Cleaning: Handle Missing, Infinite, and Large Values"
   ]
  },
  {
   "cell_type": "code",
   "execution_count": null,
   "id": "3766a934",
   "metadata": {},
   "outputs": [],
   "source": [
    "# Drop ID column if present\n",
    "df = df.drop('ID', axis=1)\n",
    "\n",
    "# Replace inf/-inf with NaN and fill NaN with median\n",
    "df.replace([np.inf, -np.inf], np.nan, inplace=True)\n",
    "df.fillna(df.median(), inplace=True)\n",
    "\n",
    "# Log-transform monetary columns to reduce skewness and avoid large values\n",
    "money_cols = [col for col in df.columns if 'BILL_AMT' in col or 'PAY_AMT' in col or col == 'LIMIT_BAL']\n",
    "for col in money_cols:\n",
    "    df[col] = pd.to_numeric(df[col], errors='coerce')\n",
    "    df[col] = df[col].clip(lower=0)\n",
    "    df[col] = np.log1p(df[col])\n",
    "\n",
    "# Check for any remaining NaNs\n",
    "print('Missing values after cleaning:')\n",
    "print(df.isnull().sum())"
   ]
  },
  {
   "cell_type": "markdown",
   "id": "efcaae80",
   "metadata": {},
   "source": [
    "## 4. Prepare Features and Target"
   ]
  },
  {
   "cell_type": "code",
   "execution_count": null,
   "id": "7081f0d7",
   "metadata": {},
   "outputs": [],
   "source": [
    "X = df.drop('default.payment.next.month', axis=1)\n",
    "y = df['default.payment.next.month']"
   ]
  },
  {
   "cell_type": "markdown",
   "id": "6a69bb4f",
   "metadata": {},
   "source": [
    "## 5. Train-Test Split"
   ]
  },
  {
   "cell_type": "code",
   "execution_count": null,
   "id": "c5739247",
   "metadata": {},
   "outputs": [],
   "source": [
    "X_train, X_test, y_train, y_test = train_test_split(\n",
    "    X, y, test_size=0.2, random_state=42, stratify=y\n",
    ")"
   ]
  },
  {
   "cell_type": "markdown",
   "id": "de0b8b15",
   "metadata": {},
   "source": [
    "## 6. Feature Scaling"
   ]
  },
  {
   "cell_type": "code",
   "execution_count": null,
   "id": "12962ef7",
   "metadata": {},
   "outputs": [],
   "source": [
    "scaler = StandardScaler()\n",
    "X_train_scaled = scaler.fit_transform(X_train)\n",
    "X_test_scaled = scaler.transform(X_test)"
   ]
  },
  {
   "cell_type": "markdown",
   "id": "1fb4cf7c",
   "metadata": {},
   "source": [
    "## 7. Handle Class Imbalance with SMOTE"
   ]
  },
  {
   "cell_type": "code",
   "execution_count": null,
   "id": "8c2f4aec",
   "metadata": {},
   "outputs": [],
   "source": [
    "smote = SMOTE(random_state=42)\n",
    "X_train_smote, y_train_smote = smote.fit_resample(X_train_scaled, y_train)\n",
    "print(f\"Training data after SMOTE: {np.bincount(y_train_smote)}\")"
   ]
  },
  {
   "cell_type": "markdown",
   "id": "26797cea",
   "metadata": {},
   "source": [
    "## 8. Train Logistic Regression Model"
   ]
  },
  {
   "cell_type": "code",
   "execution_count": null,
   "id": "4e6b9341",
   "metadata": {},
   "outputs": [],
   "source": [
    "model = LogisticRegression(class_weight='balanced', max_iter=1000, solver='liblinear', random_state=42)\n",
    "model.fit(X_train_smote, y_train_smote)"
   ]
  },
  {
   "cell_type": "markdown",
   "id": "d40bb8d8",
   "metadata": {},
   "source": [
    "## 9. Evaluate Model"
   ]
  },
  {
   "cell_type": "code",
   "execution_count": null,
   "id": "16aae9c1",
   "metadata": {},
   "outputs": [],
   "source": [
    "y_pred = model.predict(X_test_scaled)"
   ]
  },
  {
   "cell_type": "markdown",
   "id": "50c68585-37b3-45bb-89d9-e81ac2c5ff2d",
   "metadata": {},
   "source": [
    "Confusion Matrix"
   ]
  },
  {
   "cell_type": "code",
   "execution_count": null,
   "id": "08fa59ff-71a9-41b1-aed8-070adefb3f79",
   "metadata": {},
   "outputs": [],
   "source": [
    "cm = confusion_matrix(y_test, y_pred)\n",
    "print(\"Confusion Matrix:\")\n",
    "print(cm)\n",
    "plt.figure(figsize=(6,5))\n",
    "sns.heatmap(cm, annot=True, fmt='d', cmap='Blues', cbar=False)\n",
    "plt.xlabel('Predicted Label')\n",
    "plt.ylabel('True Label')\n",
    "plt.title('Confusion Matrix')\n",
    "plt.show()"
   ]
  },
  {
   "cell_type": "code",
   "execution_count": null,
   "id": "0849d0e7-de4e-40a7-a765-a4881f0dc681",
   "metadata": {},
   "outputs": [],
   "source": [
    "print(\"\\nClassification Report:\")\n",
    "print(classification_report(y_test, y_pred))\n",
    "print(\"Accuracy Score:\")\n",
    "print(accuracy_score(y_test, y_pred))"
   ]
  },
  {
   "cell_type": "markdown",
   "id": "847997c3-dcba-4ba6-9c79-b40cc0d093cf",
   "metadata": {},
   "source": [
    "ROC Curve"
   ]
  },
  {
   "cell_type": "code",
   "execution_count": null,
   "id": "56bd68f4-9e53-4bc7-8c80-d2c599e9c06c",
   "metadata": {},
   "outputs": [],
   "source": [
    "y_proba = model.predict_proba(X_test_scaled)[:,1]  # predicted probabilities for positive class\n",
    "fpr, tpr, thresholds = roc_curve(y_test, y_proba)\n",
    "roc_auc = auc(fpr, tpr)\n",
    "\n",
    "plt.figure(figsize=(7,6))\n",
    "plt.plot(fpr, tpr, color='darkorange', lw=2, label=f'ROC curve (AUC = {roc_auc:.3f})')\n",
    "plt.plot([0,1], [0,1], color='navy', lw=2, linestyle='--')\n",
    "plt.xlim([0.0, 1.0])\n",
    "plt.ylim([0.0, 1.05])\n",
    "plt.xlabel('False Positive Rate')\n",
    "plt.ylabel('True Positive Rate')\n",
    "plt.title('Receiver Operating Characteristic')\n",
    "plt.legend(loc='lower right')\n",
    "plt.show()"
   ]
  }
 ],
 "metadata": {
  "kernelspec": {
   "display_name": "Python 3 (ipykernel)",
   "language": "python",
   "name": "python3"
  },
  "language_info": {
   "codemirror_mode": {
    "name": "ipython",
    "version": 3
   },
   "file_extension": ".py",
   "mimetype": "text/x-python",
   "name": "python",
   "nbconvert_exporter": "python",
   "pygments_lexer": "ipython3",
   "version": "3.12.8"
  }
 },
 "nbformat": 4,
 "nbformat_minor": 5
}
