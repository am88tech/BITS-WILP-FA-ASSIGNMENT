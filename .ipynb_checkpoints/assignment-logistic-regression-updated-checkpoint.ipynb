{
 "cells": [
  {
   "cell_type": "markdown",
   "id": "lMni5545rSEG",
   "metadata": {
    "id": "lMni5545rSEG"
   },
   "source": [
    "Install required libraries"
   ]
  },
  {
   "cell_type": "code",
   "execution_count": null,
   "id": "jOJCfNN2rX4O",
   "metadata": {
    "id": "jOJCfNN2rX4O"
   },
   "outputs": [],
   "source": [
    "!pip install pandas numpy matplotlib seaborn scikit-learn"
   ]
  },
  {
   "cell_type": "markdown",
   "id": "l8e4oQ1lrlw2",
   "metadata": {
    "id": "l8e4oQ1lrlw2"
   },
   "source": [
    "Import libraries"
   ]
  },
  {
   "cell_type": "code",
   "execution_count": null,
   "id": "Z9ZamXoJrn57",
   "metadata": {
    "id": "Z9ZamXoJrn57"
   },
   "outputs": [],
   "source": [
    "import pandas as pd\n",
    "import numpy as np\n",
    "import matplotlib.pyplot as plt\n",
    "import seaborn as sns\n",
    "\n",
    "from sklearn.model_selection import train_test_split\n",
    "from sklearn.preprocessing import StandardScaler\n",
    "from sklearn.linear_model import LogisticRegression\n",
    "from sklearn.metrics import confusion_matrix, classification_report, accuracy_score"
   ]
  },
  {
   "cell_type": "markdown",
   "id": "0I2DppDIrvlH",
   "metadata": {
    "id": "0I2DppDIrvlH"
   },
   "source": [
    "Load and Explore the Dataset"
   ]
  },
  {
   "cell_type": "code",
   "execution_count": null,
   "id": "6YKFbzuOrtNZ",
   "metadata": {
    "id": "6YKFbzuOrtNZ"
   },
   "outputs": [],
   "source": [
    "df = pd.read_csv(\"data/UCI_Credit_Card.csv\")\n",
    "\n",
    "# Preview the first few rows\n",
    "df.head()"
   ]
  },
  {
   "cell_type": "markdown",
   "id": "e1195820-faaa-4585-b842-142b6f5d8a28",
   "metadata": {},
   "source": [
    "Fills missing values in numeric columns using:\n",
    "    - Mean if absolute skew < threshold\n",
    "    - Median if absolute skew >= threshold"
   ]
  },
  {
   "cell_type": "code",
   "execution_count": null,
   "id": "6a5845ca",
   "metadata": {},
   "outputs": [],
   "source": [
    "import pandas as pd\n",
    "\n",
    "def impute_missing_by_skewness(df, threshold=1.0):\n",
    "\n",
    "    df = df.copy()\n",
    "    numeric_cols = df.select_dtypes(include=['number']).columns\n",
    "\n",
    "    for col in numeric_cols:\n",
    "        if df[col].isnull().sum() > 0:\n",
    "            skew = df[col].skew()\n",
    "            if abs(skew) < threshold:\n",
    "                impute_value = df[col].mean()\n",
    "                method = 'mean'\n",
    "            else:\n",
    "                impute_value = df[col].median()\n",
    "                method = 'median'\n",
    "            df[col].fillna(impute_value, inplace=True)\n",
    "            print(f\"Imputed '{col}' using {method} (skew = {skew:.2f})\")\n",
    "    return df\n"
   ]
  },
  {
   "cell_type": "code",
   "execution_count": null,
   "id": "58cc5939",
   "metadata": {},
   "outputs": [],
   "source": [
    "df = impute_missing_by_skewness(df)"
   ]
  },
  {
   "cell_type": "markdown",
   "id": "NItPUrm5sxbU",
   "metadata": {
    "id": "NItPUrm5sxbU"
   },
   "source": [
    "Data Preprocessing"
   ]
  },
  {
   "cell_type": "code",
   "execution_count": null,
   "id": "JEX4PnOMtiIQ",
   "metadata": {
    "id": "JEX4PnOMtiIQ"
   },
   "outputs": [],
   "source": [
    "df.info()\n",
    "df.describe()\n",
    "\n",
    "print(\"Missing values:\\n\", df.isnull().sum())\n"
   ]
  },
  {
   "cell_type": "code",
   "execution_count": null,
   "id": "e4dee969-7c6d-488d-9056-6215dc881348",
   "metadata": {},
   "outputs": [],
   "source": [
    "print(df.isnull().sum())\n",
    "\n",
    "# Or percentage of missing values\n",
    "print(df.isnull().mean() * 100)\n",
    "df['height'].fillna(df['height'].mean(), inplace=True)\n"
   ]
  },
  {
   "cell_type": "markdown",
   "id": "BMWrScZBtqd_",
   "metadata": {
    "id": "BMWrScZBtqd_"
   },
   "source": [
    "Define Features and Target"
   ]
  },
  {
   "cell_type": "code",
   "execution_count": null,
   "id": "KtTWJUprts7-",
   "metadata": {
    "id": "KtTWJUprts7-"
   },
   "outputs": [],
   "source": [
    "X = df.drop(['ID', 'default.payment.next.month'], axis=1)\n",
    "y = df['default.payment.next.month']"
   ]
  },
  {
   "cell_type": "markdown",
   "id": "_kBooEJ9t0qy",
   "metadata": {
    "id": "_kBooEJ9t0qy"
   },
   "source": [
    "Split train test data"
   ]
  },
  {
   "cell_type": "code",
   "execution_count": null,
   "id": "vM_KbKnht2pt",
   "metadata": {
    "id": "vM_KbKnht2pt"
   },
   "outputs": [],
   "source": [
    "X_train, X_test, y_train, y_test = train_test_split(X, y, test_size=0.2, random_state=42)\n"
   ]
  },
  {
   "cell_type": "markdown",
   "id": "AgwmHKTTuD7X",
   "metadata": {
    "id": "AgwmHKTTuD7X"
   },
   "source": [
    "Feature scaling"
   ]
  },
  {
   "cell_type": "code",
   "execution_count": null,
   "id": "Sekwm6BjuFk3",
   "metadata": {
    "id": "Sekwm6BjuFk3"
   },
   "outputs": [],
   "source": [
    "scaler = StandardScaler()\n",
    "X_train_scaled = scaler.fit_transform(X_train)\n",
    "X_test_scaled = scaler.transform(X_test)\n"
   ]
  },
  {
   "cell_type": "markdown",
   "id": "pWiJ_j30uLxg",
   "metadata": {
    "id": "pWiJ_j30uLxg"
   },
   "source": [
    "Train model"
   ]
  },
  {
   "cell_type": "code",
   "execution_count": null,
   "id": "TNgR3jynuNPQ",
   "metadata": {
    "id": "TNgR3jynuNPQ"
   },
   "outputs": [],
   "source": [
    "model = LogisticRegression(max_iter=1000, class_weight='balanced')\n",
    "model.fit(X_train_scaled, y_train)\n"
   ]
  },
  {
   "cell_type": "markdown",
   "id": "-aV5hgoduSRM",
   "metadata": {
    "id": "-aV5hgoduSRM"
   },
   "source": [
    "Prediction"
   ]
  },
  {
   "cell_type": "code",
   "execution_count": null,
   "id": "8jUoH8DtuUUS",
   "metadata": {
    "id": "8jUoH8DtuUUS"
   },
   "outputs": [],
   "source": [
    "y_pred = model.predict(X_test_scaled)\n",
    "\n",
    "results = pd.DataFrame({\n",
    "    'Actual': y_test.values,\n",
    "    'Predicted': y_pred\n",
    "})\n",
    "print (results.head(10))"
   ]
  },
  {
   "cell_type": "markdown",
   "id": "cnWQ17dPuZCb",
   "metadata": {
    "id": "cnWQ17dPuZCb"
   },
   "source": [
    "Evaluate model"
   ]
  },
  {
   "cell_type": "code",
   "execution_count": null,
   "id": "DVoBf6OEuaR1",
   "metadata": {
    "id": "DVoBf6OEuaR1"
   },
   "outputs": [],
   "source": [
    "print(\"Confusion Matrix:\")\n",
    "print(confusion_matrix(y_test, y_pred))\n",
    "\n",
    "print(\"Classification Report:\")\n",
    "print(classification_report(y_test, y_pred))\n",
    "\n",
    "print(\"Accuracy Score:\")\n",
    "print(accuracy_score(y_test, y_pred))\n",
    "\n",
    "sns.heatmap(confusion_matrix(y_test, y_pred), annot=True, fmt='d', cmap='Blues')\n",
    "plt.title('Confusion Matrix')\n",
    "plt.xlabel('Predicted')\n",
    "plt.ylabel('Actual')\n",
    "plt.show()\n"
   ]
  },
  {
   "cell_type": "code",
   "execution_count": null,
   "id": "c011110c-f682-427d-a046-8363782a9198",
   "metadata": {},
   "outputs": [],
   "source": []
  }
 ],
 "metadata": {
  "colab": {
   "provenance": []
  },
  "kernelspec": {
   "display_name": "Python 3 (ipykernel)",
   "language": "python",
   "name": "python3"
  },
  "language_info": {
   "codemirror_mode": {
    "name": "ipython",
    "version": 3
   },
   "file_extension": ".py",
   "mimetype": "text/x-python",
   "name": "python",
   "nbconvert_exporter": "python",
   "pygments_lexer": "ipython3",
   "version": "3.12.8"
  }
 },
 "nbformat": 4,
 "nbformat_minor": 5
}
