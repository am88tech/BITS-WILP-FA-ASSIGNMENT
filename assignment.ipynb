{
  "cells": [
    {
      "cell_type": "markdown",
      "source": [
        "Install required libraries"
      ],
      "metadata": {
        "id": "lMni5545rSEG"
      },
      "id": "lMni5545rSEG"
    },
    {
      "cell_type": "code",
      "source": [
        "!pip install pandas numpy matplotlib seaborn scikit-learn"
      ],
      "metadata": {
        "id": "jOJCfNN2rX4O"
      },
      "id": "jOJCfNN2rX4O",
      "execution_count": null,
      "outputs": []
    },
    {
      "cell_type": "markdown",
      "source": [
        "Import libraries"
      ],
      "metadata": {
        "id": "l8e4oQ1lrlw2"
      },
      "id": "l8e4oQ1lrlw2"
    },
    {
      "cell_type": "code",
      "source": [
        "import pandas as pd\n",
        "import numpy as np\n",
        "import matplotlib.pyplot as plt\n",
        "import seaborn as sns\n",
        "\n",
        "from sklearn.model_selection import train_test_split\n",
        "from sklearn.preprocessing import StandardScaler\n",
        "from sklearn.linear_model import LogisticRegression\n",
        "from sklearn.metrics import confusion_matrix, classification_report, accuracy_score"
      ],
      "metadata": {
        "id": "Z9ZamXoJrn57"
      },
      "id": "Z9ZamXoJrn57",
      "execution_count": null,
      "outputs": []
    },
    {
      "cell_type": "markdown",
      "source": [
        "Load and Explore the Dataset"
      ],
      "metadata": {
        "id": "0I2DppDIrvlH"
      },
      "id": "0I2DppDIrvlH"
    },
    {
      "cell_type": "code",
      "source": [
        "df = pd.read_csv(\"https://github.com/am88tech/BITS-WILP-FA-ASSIGNMENT/blob/main/data/UCI_Credit_Card.csv\")\n",
        "\n",
        "# Preview the first few rows\n",
        "df.head()"
      ],
      "metadata": {
        "id": "6YKFbzuOrtNZ"
      },
      "id": "6YKFbzuOrtNZ",
      "execution_count": null,
      "outputs": []
    },
    {
      "cell_type": "markdown",
      "source": [
        "Data Preprocessing : Handle missing values, encode categorical variables, scale features"
      ],
      "metadata": {
        "id": "NItPUrm5sxbU"
      },
      "id": "NItPUrm5sxbU"
    },
    {
      "cell_type": "code",
      "source": [
        "df.info()\n",
        "df.describe()\n",
        "\n",
        "print(\"Missing values:\\n\", df.isnull().sum())"
      ],
      "metadata": {
        "id": "JEX4PnOMtiIQ"
      },
      "id": "JEX4PnOMtiIQ",
      "execution_count": null,
      "outputs": []
    },
    {
      "cell_type": "markdown",
      "source": [
        "Define Features and Target"
      ],
      "metadata": {
        "id": "BMWrScZBtqd_"
      },
      "id": "BMWrScZBtqd_"
    },
    {
      "cell_type": "code",
      "source": [
        "X = df.drop(['ID', 'default.payment.next.month'], axis=1)\n",
        "y = df['default.payment.next.month']"
      ],
      "metadata": {
        "id": "KtTWJUprts7-"
      },
      "id": "KtTWJUprts7-",
      "execution_count": null,
      "outputs": []
    },
    {
      "cell_type": "markdown",
      "source": [
        "Split train test data"
      ],
      "metadata": {
        "id": "_kBooEJ9t0qy"
      },
      "id": "_kBooEJ9t0qy"
    },
    {
      "cell_type": "code",
      "source": [
        "X_train, X_test, y_train, y_test = train_test_split(X, y, test_size=0.2, random_state=42)\n"
      ],
      "metadata": {
        "id": "vM_KbKnht2pt"
      },
      "id": "vM_KbKnht2pt",
      "execution_count": null,
      "outputs": []
    },
    {
      "cell_type": "markdown",
      "source": [
        "Feature scaling"
      ],
      "metadata": {
        "id": "AgwmHKTTuD7X"
      },
      "id": "AgwmHKTTuD7X"
    },
    {
      "cell_type": "code",
      "source": [
        "scaler = StandardScaler()\n",
        "X_train_scaled = scaler.fit_transform(X_train)\n",
        "X_test_scaled = scaler.transform(X_test)\n"
      ],
      "metadata": {
        "id": "Sekwm6BjuFk3"
      },
      "id": "Sekwm6BjuFk3",
      "execution_count": null,
      "outputs": []
    },
    {
      "cell_type": "markdown",
      "source": [
        "Train model"
      ],
      "metadata": {
        "id": "pWiJ_j30uLxg"
      },
      "id": "pWiJ_j30uLxg"
    },
    {
      "cell_type": "code",
      "source": [
        "model = LogisticRegression(max_iter=1000)\n",
        "model.fit(X_train_scaled, y_train)\n"
      ],
      "metadata": {
        "id": "TNgR3jynuNPQ"
      },
      "id": "TNgR3jynuNPQ",
      "execution_count": null,
      "outputs": []
    },
    {
      "cell_type": "markdown",
      "source": [
        "Prediction"
      ],
      "metadata": {
        "id": "-aV5hgoduSRM"
      },
      "id": "-aV5hgoduSRM"
    },
    {
      "cell_type": "code",
      "source": [
        "y_pred = model.predict(X_test_scaled)"
      ],
      "metadata": {
        "id": "8jUoH8DtuUUS"
      },
      "id": "8jUoH8DtuUUS",
      "execution_count": null,
      "outputs": []
    },
    {
      "cell_type": "markdown",
      "source": [
        "Evaluate model"
      ],
      "metadata": {
        "id": "cnWQ17dPuZCb"
      },
      "id": "cnWQ17dPuZCb"
    },
    {
      "cell_type": "code",
      "source": [
        "print(\"Confusion Matrix:\")\n",
        "print(confusion_matrix(y_test, y_pred))\n",
        "\n",
        "print(\"Classification Report:\")\n",
        "print(classification_report(y_test, y_pred))\n",
        "\n",
        "print(\"Accuracy Score:\")\n",
        "print(accuracy_score(y_test, y_pred))\n",
        "\n",
        "# Optional: Confusion Matrix Heatmap\n",
        "sns.heatmap(confusion_matrix(y_test, y_pred), annot=True, fmt='d', cmap='Blues')\n",
        "plt.title('Confusion Matrix')\n",
        "plt.xlabel('Predicted')\n",
        "plt.ylabel('Actual')\n",
        "plt.show()\n"
      ],
      "metadata": {
        "id": "DVoBf6OEuaR1"
      },
      "id": "DVoBf6OEuaR1",
      "execution_count": null,
      "outputs": []
    }
  ],
  "metadata": {
    "kernelspec": {
      "display_name": "Python 3 (ipykernel)",
      "language": "python",
      "name": "python3"
    },
    "language_info": {
      "codemirror_mode": {
        "name": "ipython",
        "version": 3
      },
      "file_extension": ".py",
      "mimetype": "text/x-python",
      "name": "python",
      "nbconvert_exporter": "python",
      "pygments_lexer": "ipython3",
      "version": "3.12.8"
    },
    "colab": {
      "provenance": []
    }
  },
  "nbformat": 4,
  "nbformat_minor": 5
}